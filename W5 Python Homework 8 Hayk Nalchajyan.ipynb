{
 "cells": [
  {
   "cell_type": "markdown",
   "id": "15ade237",
   "metadata": {},
   "source": [
    "# W5 Python Homework 8 Hayk Nalchajyan"
   ]
  },
  {
   "cell_type": "markdown",
   "id": "039093eb",
   "metadata": {},
   "source": [
    "### implement recursive factorial function with caching using a technique called memoization. Memoization is a way to store previously computed results to avoid redundant calculations and improve the performance of recursive functions."
   ]
  },
  {
   "cell_type": "code",
   "execution_count": 327,
   "id": "93184b4b",
   "metadata": {},
   "outputs": [],
   "source": [
    "memo_dict = {}\n",
    "\n",
    "def recursive_fact(n):\n",
    "    try:\n",
    "        if n in memo_dict:\n",
    "            return memo_dict[n]\n",
    "        if n == 0:\n",
    "            item = 1\n",
    "        else:\n",
    "            item = n * recursive_fact(n - 1)\n",
    "            memo_dict[n] = item\n",
    "        return item\n",
    "    except TypeError as error:\n",
    "        print(error)\n"
   ]
  },
  {
   "cell_type": "code",
   "execution_count": 328,
   "id": "bd2b4a22",
   "metadata": {},
   "outputs": [
    {
     "data": {
      "text/plain": [
       "40320"
      ]
     },
     "execution_count": 328,
     "metadata": {},
     "output_type": "execute_result"
    }
   ],
   "source": [
    "recursive_fact(8)"
   ]
  },
  {
   "cell_type": "code",
   "execution_count": 329,
   "id": "16fef86a",
   "metadata": {},
   "outputs": [
    {
     "name": "stdout",
     "output_type": "stream",
     "text": [
      "unsupported operand type(s) for -: 'str' and 'int'\n"
     ]
    }
   ],
   "source": [
    "recursive_fact(\"helo\")"
   ]
  },
  {
   "cell_type": "code",
   "execution_count": 330,
   "id": "4c6adcb7",
   "metadata": {},
   "outputs": [
    {
     "name": "stdout",
     "output_type": "stream",
     "text": [
      "unhashable type: 'list'\n"
     ]
    }
   ],
   "source": [
    "recursive_fact([])"
   ]
  },
  {
   "cell_type": "code",
   "execution_count": 331,
   "id": "478ed27c",
   "metadata": {},
   "outputs": [
    {
     "data": {
      "text/plain": [
       "{1: 1, 2: 2, 3: 6, 4: 24, 5: 120, 6: 720, 7: 5040, 8: 40320}"
      ]
     },
     "execution_count": 331,
     "metadata": {},
     "output_type": "execute_result"
    }
   ],
   "source": [
    "memo_dict"
   ]
  },
  {
   "cell_type": "code",
   "execution_count": 332,
   "id": "8d887a5e",
   "metadata": {},
   "outputs": [
    {
     "data": {
      "text/plain": [
       "39916800"
      ]
     },
     "execution_count": 332,
     "metadata": {},
     "output_type": "execute_result"
    }
   ],
   "source": [
    "recursive_fact(11)"
   ]
  },
  {
   "cell_type": "code",
   "execution_count": 333,
   "id": "0648cdbe",
   "metadata": {},
   "outputs": [
    {
     "data": {
      "text/plain": [
       "{1: 1,\n",
       " 2: 2,\n",
       " 3: 6,\n",
       " 4: 24,\n",
       " 5: 120,\n",
       " 6: 720,\n",
       " 7: 5040,\n",
       " 8: 40320,\n",
       " 9: 362880,\n",
       " 10: 3628800,\n",
       " 11: 39916800}"
      ]
     },
     "execution_count": 333,
     "metadata": {},
     "output_type": "execute_result"
    }
   ],
   "source": [
    "memo_dict"
   ]
  },
  {
   "cell_type": "markdown",
   "id": "4331e881",
   "metadata": {},
   "source": [
    "### Implement a recursive function to compute the nth Fibonacci number."
   ]
  },
  {
   "cell_type": "code",
   "execution_count": 21,
   "id": "6f171e00",
   "metadata": {},
   "outputs": [],
   "source": [
    "def n_fibonacci(n):\n",
    "    try:\n",
    "        if n == 0:\n",
    "            return 0\n",
    "        elif n == 1:\n",
    "            return 1\n",
    "        else:\n",
    "            return n_fibonacci(n-1) + n_fibonacci(n-2)\n",
    "    except TypeError as error:\n",
    "        print(error)"
   ]
  },
  {
   "cell_type": "code",
   "execution_count": 22,
   "id": "2f86bf2a",
   "metadata": {},
   "outputs": [
    {
     "data": {
      "text/plain": [
       "8"
      ]
     },
     "execution_count": 22,
     "metadata": {},
     "output_type": "execute_result"
    }
   ],
   "source": [
    "n_fibonacci(6)"
   ]
  },
  {
   "cell_type": "code",
   "execution_count": 36,
   "id": "bd8dfd04",
   "metadata": {},
   "outputs": [
    {
     "data": {
      "text/plain": [
       "{0: 0,\n",
       " 1: 1,\n",
       " 2: 1,\n",
       " 3: 2,\n",
       " 4: 3,\n",
       " 5: 5,\n",
       " 6: 8,\n",
       " 7: 13,\n",
       " 8: 21,\n",
       " 9: 34,\n",
       " 10: 55,\n",
       " 11: 89,\n",
       " 12: 144,\n",
       " 13: 233}"
      ]
     },
     "execution_count": 36,
     "metadata": {},
     "output_type": "execute_result"
    }
   ],
   "source": [
    "fibdict = {i: n_fibonacci(i) for i in range(0, 14)}\n",
    "fibdict"
   ]
  },
  {
   "cell_type": "code",
   "execution_count": 23,
   "id": "0958ff60",
   "metadata": {},
   "outputs": [
    {
     "name": "stdout",
     "output_type": "stream",
     "text": [
      "unsupported operand type(s) for -: 'list' and 'int'\n"
     ]
    }
   ],
   "source": [
    "n_fibonacci([])"
   ]
  },
  {
   "cell_type": "code",
   "execution_count": 24,
   "id": "26297725",
   "metadata": {},
   "outputs": [
    {
     "name": "stdout",
     "output_type": "stream",
     "text": [
      "unsupported operand type(s) for -: 'dict' and 'int'\n"
     ]
    }
   ],
   "source": [
    "n_fibonacci({})"
   ]
  },
  {
   "cell_type": "code",
   "execution_count": 25,
   "id": "948b8451",
   "metadata": {},
   "outputs": [
    {
     "name": "stdout",
     "output_type": "stream",
     "text": [
      "unsupported operand type(s) for -: 'str' and 'int'\n"
     ]
    }
   ],
   "source": [
    "n_fibonacci(\"fibonacci\")"
   ]
  },
  {
   "cell_type": "markdown",
   "id": "56555167",
   "metadata": {},
   "source": [
    "### Create a recursive function to find the sum of digits of a given positive integer."
   ]
  },
  {
   "cell_type": "code",
   "execution_count": 137,
   "id": "32eb1e21",
   "metadata": {},
   "outputs": [],
   "source": [
    "def digit_counter(n):\n",
    "    try:\n",
    "        assert type(n) != float, \"Input should be an integer\"\n",
    "        if n < 10:\n",
    "            return n\n",
    "        else:\n",
    "            return n % 10 + digit_counter(n//10)\n",
    "    except (TypeError, AssertionError) as e:\n",
    "        print(e)\n"
   ]
  },
  {
   "cell_type": "code",
   "execution_count": 138,
   "id": "464dfea9",
   "metadata": {},
   "outputs": [
    {
     "data": {
      "text/plain": [
       "21"
      ]
     },
     "execution_count": 138,
     "metadata": {},
     "output_type": "execute_result"
    }
   ],
   "source": [
    "digit_counter(123456)"
   ]
  },
  {
   "cell_type": "code",
   "execution_count": 139,
   "id": "1bee7b83",
   "metadata": {},
   "outputs": [
    {
     "name": "stdout",
     "output_type": "stream",
     "text": [
      "'<' not supported between instances of 'str' and 'int'\n"
     ]
    }
   ],
   "source": [
    "digit_counter(\"hello\")"
   ]
  },
  {
   "cell_type": "code",
   "execution_count": 140,
   "id": "10e34d0d",
   "metadata": {},
   "outputs": [
    {
     "name": "stdout",
     "output_type": "stream",
     "text": [
      "'<' not supported between instances of 'dict' and 'int'\n"
     ]
    }
   ],
   "source": [
    "digit_counter({})"
   ]
  },
  {
   "cell_type": "code",
   "execution_count": 141,
   "id": "af2e1982",
   "metadata": {},
   "outputs": [
    {
     "name": "stdout",
     "output_type": "stream",
     "text": [
      "Input should be an integer\n"
     ]
    }
   ],
   "source": [
    "digit_counter(9.5)"
   ]
  },
  {
   "cell_type": "markdown",
   "id": "4a0292d8",
   "metadata": {},
   "source": [
    "### Implement binary search algorithm iterative"
   ]
  },
  {
   "cell_type": "code",
   "execution_count": 220,
   "id": "807d38a8",
   "metadata": {},
   "outputs": [],
   "source": [
    "def binary_searcher(lst:list, item:int): \n",
    "    try:\n",
    "        assert isinstance(lst, list) and isinstance(item, int),\"Check the args of the function, please!!!\"\n",
    "        for i in range(len(lst)):\n",
    "            for j in range(len(lst)-i-1):\n",
    "                if lst[j] > lst[j+1]:\n",
    "                    lst[j], lst[j+1] = lst[j+1], lst[j]\n",
    "        \n",
    "        first_index = 0\n",
    "        last_index = len(lst) - 1\n",
    "        \n",
    "        while first_index <= last_index:\n",
    "            middle = first_index + (last_index - first_index) // 2\n",
    "\n",
    "            if lst[middle] == item:\n",
    "                return middle\n",
    "            elif lst[middle] > item:\n",
    "                last_index = middle - 1\n",
    "            elif lst[middle] < item:\n",
    "                first_index = middle + 1\n",
    "    except AssertionError as e:\n",
    "        print(e)\n",
    "            "
   ]
  },
  {
   "cell_type": "code",
   "execution_count": 221,
   "id": "b26daa1c",
   "metadata": {},
   "outputs": [
    {
     "name": "stdout",
     "output_type": "stream",
     "text": [
      "Check the args of the function, please!!!\n"
     ]
    }
   ],
   "source": [
    "binary_searcher(\"p\", 25) "
   ]
  },
  {
   "cell_type": "code",
   "execution_count": 222,
   "id": "62164241",
   "metadata": {},
   "outputs": [
    {
     "name": "stdout",
     "output_type": "stream",
     "text": [
      "Check the args of the function, please!!!\n"
     ]
    }
   ],
   "source": [
    "binary_searcher([1,5,3,1,5],\"p\") "
   ]
  },
  {
   "cell_type": "code",
   "execution_count": 224,
   "id": "a6eb7b26",
   "metadata": {},
   "outputs": [
    {
     "name": "stdout",
     "output_type": "stream",
     "text": [
      "Check the args of the function, please!!!\n"
     ]
    }
   ],
   "source": [
    "binary_searcher({1:2, 3:4},4) "
   ]
  },
  {
   "cell_type": "code",
   "execution_count": 219,
   "id": "9810720f",
   "metadata": {},
   "outputs": [
    {
     "data": {
      "text/plain": [
       "5"
      ]
     },
     "execution_count": 219,
     "metadata": {},
     "output_type": "execute_result"
    }
   ],
   "source": [
    "binary_searcher([1,8,3,5,9,6,78,25,36], 9) "
   ]
  },
  {
   "cell_type": "code",
   "execution_count": null,
   "id": "074e6a04",
   "metadata": {},
   "outputs": [],
   "source": []
  },
  {
   "cell_type": "markdown",
   "id": "b64452a8",
   "metadata": {},
   "source": [
    "### Implement an iterative binary search algorithm that searches for a target element within a sorted array."
   ]
  },
  {
   "cell_type": "code",
   "execution_count": 240,
   "id": "76fdafdc",
   "metadata": {},
   "outputs": [],
   "source": [
    "def binary_searcher_sorted(lst, item):\n",
    "    try:\n",
    "        first_index = 0\n",
    "        last_index = len(lst) - 1\n",
    "\n",
    "        while first_index <= last_index:\n",
    "            middle = first_index + (last_index - first_index) // 2\n",
    "\n",
    "            if lst[middle] == item:\n",
    "                return middle\n",
    "            elif lst[middle] > item:\n",
    "                last_index = middle - 1\n",
    "            elif lst[middle] < item:\n",
    "                first_index = middle + 1\n",
    "    except (TypeError, KeyError):\n",
    "        print(\"Sth went wrong. Try again!!!\")"
   ]
  },
  {
   "cell_type": "code",
   "execution_count": 241,
   "id": "9bb1302e",
   "metadata": {},
   "outputs": [
    {
     "data": {
      "text/plain": [
       "9"
      ]
     },
     "execution_count": 241,
     "metadata": {},
     "output_type": "execute_result"
    }
   ],
   "source": [
    "binary_searcher_sorted([1,3,4,5,6,7,8,9,55,77,84,86,89], 77)"
   ]
  },
  {
   "cell_type": "code",
   "execution_count": 242,
   "id": "c3294ea9",
   "metadata": {},
   "outputs": [
    {
     "name": "stdout",
     "output_type": "stream",
     "text": [
      "Sth went wrong. Try again!!!\n"
     ]
    }
   ],
   "source": [
    "binary_searcher_sorted([1,3,4,5,6,7,8,9,55,77,84,86,89], \"p\")"
   ]
  },
  {
   "cell_type": "code",
   "execution_count": 243,
   "id": "803bbbad",
   "metadata": {},
   "outputs": [
    {
     "name": "stdout",
     "output_type": "stream",
     "text": [
      "Sth went wrong. Try again!!!\n"
     ]
    }
   ],
   "source": [
    "binary_searcher_sorted({77:77}, 77)"
   ]
  },
  {
   "cell_type": "markdown",
   "id": "bcf76346",
   "metadata": {},
   "source": [
    "### Write a recursive binary search algorithm that searches for a target element within a sorted array. The algorithm follows these steps:\n",
    "\n",
    "*define a recursive function binary_search_recursive(array, target, low, high)\n",
    "\n",
    "*If low is greater than high, return -1 to indicate that the target was not found.\n",
    "\n",
    "*Calculate the middle index of the current range as mid = (low + high) // 2.\n",
    "\n",
    "*If array[mid] is equal to the target, return mid to indicate that the target was found at the current index.\n",
    "\n",
    "*If array[mid] is greater than the target, recursively call binary_search_recursive(array, target, low, mid - 1) to search in \n",
    "the left half of the array.\n",
    "\n",
    "*If array[mid] is less than the target, recursively call binary_search_recursive(array, target, mid + 1, high) to search in the right half of the array."
   ]
  },
  {
   "cell_type": "code",
   "execution_count": 253,
   "id": "25b64c81",
   "metadata": {},
   "outputs": [],
   "source": [
    "def binary_search_recursive(array, target, low, high):\n",
    "    try:\n",
    "        assert isinstance(array, list) and isinstance(target, int) and isinstance(low, int) and isinstance(high, int), \"Please check the values!!!\"\n",
    "        if low > high:\n",
    "            return -1\n",
    "        else:\n",
    "            mid = (low + high) // 2\n",
    "            if array[mid] == target:\n",
    "                return mid\n",
    "            elif array[mid] > target:\n",
    "                return binary_search_recursive(array, target, low, mid - 1)\n",
    "            elif array[mid] < target:\n",
    "                return binary_search_recursive(array, target, mid + 1, high)\n",
    "            \n",
    "    except AssertionError as e:\n",
    "        print(e)"
   ]
  },
  {
   "cell_type": "code",
   "execution_count": 254,
   "id": "89927136",
   "metadata": {},
   "outputs": [],
   "source": [
    "example = [1,2,4,5,6,7,8,9,11,23,45,56,78,79,99]"
   ]
  },
  {
   "cell_type": "code",
   "execution_count": 255,
   "id": "ab911515",
   "metadata": {},
   "outputs": [
    {
     "data": {
      "text/plain": [
       "14"
      ]
     },
     "execution_count": 255,
     "metadata": {},
     "output_type": "execute_result"
    }
   ],
   "source": [
    "binary_search_recursive(example, 99, 0, len(example))"
   ]
  },
  {
   "cell_type": "code",
   "execution_count": 256,
   "id": "3d9b0549",
   "metadata": {},
   "outputs": [
    {
     "data": {
      "text/plain": [
       "-1"
      ]
     },
     "execution_count": 256,
     "metadata": {},
     "output_type": "execute_result"
    }
   ],
   "source": [
    "binary_search_recursive(example, 79, 4, 9)"
   ]
  },
  {
   "cell_type": "code",
   "execution_count": 257,
   "id": "38a027cc",
   "metadata": {},
   "outputs": [
    {
     "data": {
      "text/plain": [
       "13"
      ]
     },
     "execution_count": 257,
     "metadata": {},
     "output_type": "execute_result"
    }
   ],
   "source": [
    "binary_search_recursive(example, 79, 0, len(example))"
   ]
  },
  {
   "cell_type": "code",
   "execution_count": 258,
   "id": "6a8b2fe2",
   "metadata": {},
   "outputs": [
    {
     "name": "stdout",
     "output_type": "stream",
     "text": [
      "Please check the values!!!\n"
     ]
    }
   ],
   "source": [
    "binary_search_recursive(\"example\", 79, 0, len(example))"
   ]
  },
  {
   "cell_type": "code",
   "execution_count": 259,
   "id": "334144bb",
   "metadata": {},
   "outputs": [
    {
     "name": "stdout",
     "output_type": "stream",
     "text": [
      "Please check the values!!!\n"
     ]
    }
   ],
   "source": [
    "binary_search_recursive(\"example\", \"e\", 0, len(example))"
   ]
  },
  {
   "cell_type": "code",
   "execution_count": 261,
   "id": "c40b0220",
   "metadata": {},
   "outputs": [
    {
     "name": "stdout",
     "output_type": "stream",
     "text": [
      "Please check the values!!!\n"
     ]
    }
   ],
   "source": [
    "binary_search_recursive(example, 79, \"l\", \"h\")"
   ]
  },
  {
   "cell_type": "markdown",
   "id": "5a31aa2a",
   "metadata": {},
   "source": [
    "### Implement the bubble sort algorithm to sort a given list of elements in ascending order "
   ]
  },
  {
   "cell_type": "code",
   "execution_count": 290,
   "id": "7ff959b0",
   "metadata": {},
   "outputs": [],
   "source": [
    "def bubble_sort(array: list) -> list:\n",
    "    try:\n",
    "        assert isinstance(array, list), \"The input should be list!!!\"\n",
    "        assert all(isinstance(item, (int, float)) for item in array), \"All the numbers in the array must be real numbers!!!\"\n",
    "        for i in range(len(array)):\n",
    "                for j in range(len(array)-i-1):\n",
    "                    if array[j] > array[j+1]:\n",
    "                        array[j], array[j+1] = array[j+1], array[j]\n",
    "\n",
    "        return array\n",
    "    except AssertionError as error:\n",
    "        print(error)"
   ]
  },
  {
   "cell_type": "code",
   "execution_count": 291,
   "id": "8263270a",
   "metadata": {},
   "outputs": [
    {
     "data": {
      "text/plain": [
       "[6, 7, 8, 9, 12, 22, 78, 84, 457, 963, 965, 995, 6655]"
      ]
     },
     "execution_count": 291,
     "metadata": {},
     "output_type": "execute_result"
    }
   ],
   "source": [
    "bubble_sort([8,6,7,9,22,995,84,965,78,963,12,457,6655])"
   ]
  },
  {
   "cell_type": "code",
   "execution_count": 292,
   "id": "4ac49348",
   "metadata": {},
   "outputs": [
    {
     "name": "stdout",
     "output_type": "stream",
     "text": [
      "The input should be list!!!\n"
     ]
    }
   ],
   "source": [
    "bubble_sort({1:2,3:4})"
   ]
  },
  {
   "cell_type": "code",
   "execution_count": 293,
   "id": "b278c27d",
   "metadata": {},
   "outputs": [
    {
     "name": "stdout",
     "output_type": "stream",
     "text": [
      "All the numbers in the array must be real numbers!!!\n"
     ]
    }
   ],
   "source": [
    "bubble_sort([\"p\", \"o\", \"m\"])"
   ]
  },
  {
   "cell_type": "markdown",
   "id": "ce25a183",
   "metadata": {},
   "source": [
    "### Implement the insertion sort algorithm to sort a given list of elements in ascending order."
   ]
  },
  {
   "cell_type": "code",
   "execution_count": 311,
   "id": "ac311a51",
   "metadata": {},
   "outputs": [],
   "source": [
    "def insertion_sort(array: list) -> list:\n",
    "    try:\n",
    "        assert isinstance(array, list), \"The input should be list!!!\"\n",
    "        for j in range(1, len(array)):\n",
    "            key = array[j]\n",
    "            i = j - 1\n",
    "            while i >= 0 and array[i] > key:\n",
    "                array[i + 1] = array[i]\n",
    "                i = i - 1\n",
    "            array[i + 1] = key\n",
    "        return array\n",
    "    except (TypeError, KeyError, AssertionError) as e:\n",
    "        print(e)\n"
   ]
  },
  {
   "cell_type": "code",
   "execution_count": 316,
   "id": "0c76eac2",
   "metadata": {},
   "outputs": [
    {
     "data": {
      "text/plain": [
       "[6, 7, 8, 9, 22, 78, 84, 457, 963, 965, 995, 6655]"
      ]
     },
     "execution_count": 316,
     "metadata": {},
     "output_type": "execute_result"
    }
   ],
   "source": [
    "array = [8,6,7,9,22,995,84,965,78,963,457,6655]\n",
    "insertion_sort(array)"
   ]
  },
  {
   "cell_type": "code",
   "execution_count": 317,
   "id": "e4678a79",
   "metadata": {},
   "outputs": [
    {
     "name": "stdout",
     "output_type": "stream",
     "text": [
      "The input should be list!!!\n"
     ]
    }
   ],
   "source": [
    "insertion_sort(\"l\")"
   ]
  },
  {
   "cell_type": "code",
   "execution_count": 318,
   "id": "95285f1f",
   "metadata": {},
   "outputs": [
    {
     "name": "stdout",
     "output_type": "stream",
     "text": [
      "The input should be list!!!\n"
     ]
    }
   ],
   "source": [
    "insertion_sort(\"ppp\")"
   ]
  },
  {
   "cell_type": "code",
   "execution_count": 322,
   "id": "762629ac",
   "metadata": {},
   "outputs": [
    {
     "name": "stdout",
     "output_type": "stream",
     "text": [
      "'>' not supported between instances of 'int' and 'str'\n"
     ]
    }
   ],
   "source": [
    "insertion_sort([2,9,2,7,2,8,2,8,9,3,\"p\", \"o\",452])"
   ]
  },
  {
   "cell_type": "markdown",
   "id": "64d347d1",
   "metadata": {},
   "source": [
    "### Implement the selection sort algorithm to sort a given list of elements in ascending order"
   ]
  },
  {
   "cell_type": "code",
   "execution_count": 323,
   "id": "1dcd2ec7",
   "metadata": {},
   "outputs": [],
   "source": [
    "def selection_sort(array: list) -> list:\n",
    "    try:    \n",
    "        assert isinstance(array, list), \"The input should be list!!!\"\n",
    "        sorted_list = []\n",
    "        while len(array) > 0:\n",
    "            minimum = array[0]\n",
    "            for i in range(len(array)):\n",
    "                if array[i] < minimum:\n",
    "                    minimum = array[i]\n",
    "            del array[array.index(minimum)]\n",
    "            sorted_list.append(minimum)\n",
    "        return sorted_list\n",
    "    except (TypeError, KeyError, AssertionError) as e:\n",
    "        print(e)"
   ]
  },
  {
   "cell_type": "code",
   "execution_count": 324,
   "id": "4df2b861",
   "metadata": {},
   "outputs": [
    {
     "data": {
      "text/plain": [
       "[2, 4, 6, 7]"
      ]
     },
     "execution_count": 324,
     "metadata": {},
     "output_type": "execute_result"
    }
   ],
   "source": [
    "selection_sort([7,6,4,2])"
   ]
  },
  {
   "cell_type": "code",
   "execution_count": 325,
   "id": "477d8a8b",
   "metadata": {},
   "outputs": [
    {
     "name": "stdout",
     "output_type": "stream",
     "text": [
      "'<' not supported between instances of 'str' and 'int'\n"
     ]
    }
   ],
   "source": [
    "selection_sort([2,3,9,8,\"p\"])"
   ]
  },
  {
   "cell_type": "code",
   "execution_count": 326,
   "id": "279c8e24",
   "metadata": {},
   "outputs": [
    {
     "name": "stdout",
     "output_type": "stream",
     "text": [
      "The input should be list!!!\n"
     ]
    }
   ],
   "source": [
    "selection_sort(\"plolpoloujhv\")"
   ]
  },
  {
   "cell_type": "code",
   "execution_count": null,
   "id": "423fcece",
   "metadata": {},
   "outputs": [],
   "source": []
  }
 ],
 "metadata": {
  "kernelspec": {
   "display_name": "Python 3 (ipykernel)",
   "language": "python",
   "name": "python3"
  },
  "language_info": {
   "codemirror_mode": {
    "name": "ipython",
    "version": 3
   },
   "file_extension": ".py",
   "mimetype": "text/x-python",
   "name": "python",
   "nbconvert_exporter": "python",
   "pygments_lexer": "ipython3",
   "version": "3.9.13"
  }
 },
 "nbformat": 4,
 "nbformat_minor": 5
}
